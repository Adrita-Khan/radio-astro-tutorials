{
 "cells": [
  {
   "cell_type": "markdown",
   "metadata": {},
   "source": [
    "# Radio Astronomy and Data Analysis Module\n",
    "\n",
    "**Lecturer:** Poonam Chandra<br>\n",
    "**Jupyter Notebook Authors:** Poonam Chandra, David Kaplan, & Cameron Hummels\n",
    "\n",
    "This is a Jupyter notebook lesson taken from the GROWTH Winter School 2018.  For other lessons and their accompanying lectures, please see: http://growth.caltech.edu/growth-astro-school-2018-resources.html\n",
    "\n",
    "## Objective\n",
    "Investigate radio observations, interferometry, and synthesis imaging\n",
    "\n",
    "## Key steps\n",
    "- Estimate the UV tracks for East-West, North-South or inclined array at the GMRT location\n",
    "- Calculate the UV tracks for different duration observations\n",
    "- Find the flux density for a bright source or a region covering an extended source\n",
    "\n",
    "## Required dependencies\n",
    "\n",
    "See GROWTH school webpage for detailed instructions on how to install these modules and packages.  Nominally, you should be able to install the python modules with `pip install <module>`.  The external package `FriendlyVRI` can be installed by following the instructions at the associated website below\n",
    "\n",
    "### Python modules\n",
    "* python 3\n",
    "* astropy\n",
    "* numpy\n",
    "* matplotlib\n",
    "\n",
    "### External packages\n",
    "* FriendlyVRI - https://crpurcell.github.io/friendlyVRI/"
   ]
  },
  {
   "cell_type": "code",
   "execution_count": null,
   "metadata": {},
   "outputs": [],
   "source": [
    "import os\n",
    "import webbrowser\n",
    "cwd = os.getcwd()\n",
    "data_dir = os.path.join(cwd, 'data')\n",
    "webbrowser.open_new(os.path.join('file', data_dir, 'RadioHandsOn.pdf'))"
   ]
  },
  {
   "cell_type": "code",
   "execution_count": null,
   "metadata": {},
   "outputs": [],
   "source": [
    "import numpy as np\n",
    "import matplotlib.pyplot as plt\n",
    "from astropy.io import fits\n",
    "from astropy.wcs import WCS"
   ]
  },
  {
   "cell_type": "markdown",
   "metadata": {},
   "source": [
    "## Introduction\n",
    "Radio astronomy reveals objects that do not radiate in other parts of the spectrum, and they are able to pass through galactic dust clouds that obscure the view in the optical range. In continuum, radio sky is dominated by non-thermal emission, i.e. the emission which cannot be characterized by a single temperature. The non-thermal radio emission usually are sites of particle acceleration and produce synchrotron, Coherent emission, Masers emission. They also reveal new phenomenon such as Fast Radio Bursts etc. \n",
    "\n",
    "In this image below, left hand side is the optical image of a galaxy which shows big sidelobes in the radio image in the right hand side. The radio image is dominated by synchrotron emission\n",
    "\n",
    "![SegmentLocal](data/Images/RadioGal.png \"segment\")\n",
    "\n",
    "\n",
    "Spectral line radiation is generated at specific frequencies by atomic and molecular processes. Neutral atomic hydrogen at 1420.405 MHz, which results from the transition between two energy levels of the atom, the separation of which is related to the spin vector of the electron in the magnetic field of the nucleus. \n",
    "\n",
    "In the left image of this galaxy, the optical emission is dominated by star light, whereas the extent of Neutral H1 emission, shown in the right side image, is much larger.\n",
    "\n",
    "![SegmentLocal](data/Images/NGC.png \"segment\")"
   ]
  },
  {
   "cell_type": "markdown",
   "metadata": {},
   "source": [
    "# # Radio Interferometry\n",
    "The angular resolution of a single radio antenna is insufficient for many astronomical purposes. For example, at 21cm, to obtain 1 arcsec resolution one needs 42km dish. Thus the concept is that for high resolution, use an antenna array instead of a single antenna. Signals from different antennas are brought to focus electronically. Now resolution is better since in resolution λ/d, d is the largest separation between the antennas in the array. Imagine making an image with mirrors with holes. More antennas means lesser holes. \n",
    "![SegmentLocal](data/Images/aper.png \"segment\")"
   ]
  },
  {
   "cell_type": "markdown",
   "metadata": {},
   "source": [
    "Rotation of  the Earth helps in filling the gaps between mirrors. This is called aperture synthesis.\n",
    "\n",
    "In the aniation below, one can see that Y-shaped array, and making use of Earth's rotation. \n",
    "\n",
    "If you want to play the animation again, double-click in this cell and click Run.\n",
    "![SegmentLocal](data/Images/ApertureSynthesisAnimation.gif \"segment\")"
   ]
  },
  {
   "cell_type": "markdown",
   "metadata": {},
   "source": [
    "![SegmentLocal](data/Images/radioast.jpg \"segment\")"
   ]
  },
  {
   "cell_type": "markdown",
   "metadata": {},
   "source": [
    "![SegmentLocal](data/Images/uv2.png \"segment\")\n",
    "![SegmentLocal](data/Images/uv1.png \"segment\")"
   ]
  },
  {
   "cell_type": "markdown",
   "metadata": {},
   "source": [
    "## Hands On session on UV tracks\n",
    "\n",
    "In this code below, one can estimate the UV tracks for East-West, North-South or inclined array at the GMRT location. You can select differnt numbers of hours and check the UV tracks.\n",
    "\n",
    "Try different number of hours, and different array and see how UV tracks are different for different arrays. \n",
    "RUn the code below and compare 2 hrs and 10 hrs tracks for East-West, North-South and Inclined array.\n"
   ]
  },
  {
   "cell_type": "code",
   "execution_count": null,
   "metadata": {},
   "outputs": [],
   "source": [
    "# This code plots the uv track for a baseline given the antenna coordinates, wavelength and the number of hours\n",
    "dec             =2.082175*(np.pi/180.0) #in radians, declination for HD 35298\n",
    "\n",
    "gmrt_lat        =19.1*(np.pi/180.0) # GMRT latitude\n",
    "gmrt_long       =74.05*(np.pi/180.0)# GMRT longitude\n",
    "start_alt       =20.0*(np.pi/180.0) # Starting elevation angle for GMRT\n",
    "print ('This will show the uv tracks for a given baseline for two observing session of different lengths')\n",
    "#num            =int(raw_input('Enter the number of hours: (integer expected) '))\n",
    "num_arr         =np.array([float(i) for i in input('Enter the numbers of hours (e.g., 5 10):  ').split(' ')])\n",
    "\n",
    "lamb            =float(input('Enter the wavelength in metre: '))\n",
    "arr_typ         =int(input('Choose the array type: East-West (press 1), North-South (press 2) or inclined (press 3): '))\n",
    "R               =6371.0*10**3   #Earth's radius in metres\n",
    "\n",
    "def find_u_v(arr_typ,num,dec,gmrt_long,lamb):   # function to find u, v given an array of hour angles\n",
    "        ant1_lat,ant1_long      =18.97239*(np.pi/180.0),74.05211*(np.pi/180.0)\n",
    "        ant2_lat,ant2_long      =19.08447*(np.pi/180.0),74.04933*(np.pi/180.0)\n",
    "\n",
    "        if arr_typ==1:\n",
    "                ant2_lat=ant1_lat\n",
    "        if arr_typ==2:\n",
    "                ant2_long=ant1_long\n",
    "        if arr_typ==3:\n",
    "                ant2_lat=ant1_lat+abs(ant1_long-ant2_long)\n",
    "        \n",
    "        h_i     =np.arccos((np.sin(start_alt)-np.sin(dec)*np.sin(gmrt_lat))/(np.cos(dec)*np.cos(gmrt_lat))) #starting hour angle\n",
    "        h_f     =h_i+num*15.0*(np.pi/180.0)\n",
    "        h       =np.linspace(h_i,h_f,50)\n",
    "        X1      =R*np.cos(ant1_lat)*np.cos(ant1_long-gmrt_long)\n",
    "        X2      =R*np.cos(ant2_lat)*np.cos(ant2_long-gmrt_long)\n",
    "        Y1      =R*np.cos(ant1_lat)*np.sin(ant1_long-gmrt_long)\n",
    "        Y2      =R*np.cos(ant2_lat)*np.sin(ant2_long-gmrt_long)\n",
    "        Z1      =R*np.sin(ant1_lat)\n",
    "        Z2      =R*np.sin(ant2_lat)\n",
    "        Lx      =X2-X1\n",
    "        Ly      =Y2-Y1\n",
    "        Lz      =Z2-Z1\n",
    "        u       =(1.0/lamb)*(Lx*np.sin(h)+Ly*np.cos(h))\n",
    "        v       =(1.0/lamb)*(-Lx*np.sin(dec)*np.cos(h)+Ly*np.sin(dec)*np.sin(h)+Lz*np.cos(dec))\n",
    "        #print X1,Y1,Z1\n",
    "        return u,v\n",
    "\n",
    "\n",
    "lat1,long1      =18.97239*(np.pi/180.0),74.05211*(np.pi/180.0)\n",
    "lat2,long2      =19.08447*(np.pi/180.0),74.04933*(np.pi/180.0)\n",
    "\n",
    "u1,v1           =find_u_v(arr_typ,max(num_arr),dec,gmrt_long,lamb)\n",
    "u2,v2           =find_u_v(arr_typ,min(num_arr),dec,gmrt_long,lamb)\n",
    "\n",
    "plt.plot(u2,v2,'r-',linewidth=5,label='shorter session')\n",
    "plt.plot(u1,v1,'b--',linewidth=2,alpha=0.5,label='longer session')\n",
    "\n",
    "\n",
    "plt.xlabel(r'$u(\\lambda)$',fontsize=15)\n",
    "plt.ylabel(r'$v(\\lambda)$',fontsize=15)\n",
    "plt.grid()\n",
    "plt.legend(loc='best')\n",
    "plt.show()\n"
   ]
  },
  {
   "cell_type": "markdown",
   "metadata": {},
   "source": [
    "# Simulated source and tracks for GMRT antennas\n",
    "In this exercise below, we have simulated a point source and a 2' Gaussian using GMRT antenna array.\n",
    "Here left side is the image plane and right side is the UV plane. The constant amplitude is due to the point source at the center and the structure in the amplitude at small UV baselines is due to the extended source - the fundamental property of Fourier transforms!\n",
    "\n",
    "![SegmentLocal](data/Images/source.png \"segment\")\n",
    "\n",
    "\n",
    "In the images below, we should UV tracks for 1, 2, 5 and 10 hours, respectively and the resulting images. One note that while white source does not get affected, the extended source quality depends sensitivity on UV coverage. Why?\n",
    "\n",
    "\n",
    "![SegmentLocal](data/Images/uvtracks.png \"segment\")\n",
    "![SegmentLocal](data/Images/images.png \"segment\")\n"
   ]
  },
  {
   "cell_type": "markdown",
   "metadata": {},
   "source": [
    "## Exercise for the UV tracks for the above simulated image\n",
    "In the code below, the UV tracks are for the above simulated image using GMRT array. The observations are for 10 hours in total. You need to provide the fraction of the UV tracks. The number 1 implies the full UV tracks.\n",
    "Compare UV tracks for fractions 0.1, 0.2, 0.5 and 1 and see how UV tracks improve with increased observations.\n"
   ]
  },
  {
   "cell_type": "code",
   "execution_count": null,
   "metadata": {},
   "outputs": [],
   "source": [
    "infilename      =       os.path.join(data_dir, 'uv.fits')\n",
    "\n",
    "infile          =       fits.open(infilename)\n",
    "data            =       infile[0].data\n",
    "\n",
    "uarr            =       np.array(data.par('UU--'))\n",
    "varr            =       np.array(data.par('VV--'))\n",
    "\n",
    "#FILL IN HERE"
   ]
  },
  {
   "cell_type": "markdown",
   "metadata": {},
   "source": [
    "## Virtual VRI software - A Virtual Radio Interferometer application\n",
    "Below is the friendly virtual VRI software avaialble freely online at https://crpurcell.github.io/friendlyVRI/.\n",
    "\n",
    "Run this software and follow instructions below.\n",
    "https://crpurcell.github.io/friendlyVRI/HELP.html\n",
    "\n",
    "Use at least three antenna arrays (GMRT, VLA and ALMA) and using 2 model images and create the radio image.\n",
    "For the same observation, use different hour angles and note how image quality improves with the increased hour angle."
   ]
  },
  {
   "cell_type": "code",
   "execution_count": null,
   "metadata": {},
   "outputs": [],
   "source": [
    "os.chdir(os.path.join('data', 'friendlyVRI-master'))\n",
    "os.system('python vriTk.py')\n",
    "os.chdir(cwd)"
   ]
  },
  {
   "cell_type": "markdown",
   "metadata": {},
   "source": [
    "## Image Files\n",
    "In the code below, you can fiddle around with the image files for 1 hr, 2 hr, 5 hr and 10 hr observations. They are pre-made FITs file. You can zoom-in, zoom-out, check source structure, check the peak flux, pixel positions etc."
   ]
  },
  {
   "cell_type": "code",
   "execution_count": null,
   "metadata": {},
   "outputs": [],
   "source": [
    "### This code shows the 2D image from a fits file\n",
    "### Need to have astropy, WCSAxes packages installed\n",
    "imname                  =input('Enter the fits file name (these are 1hr.fits, 2hrs.fits, 5hrs.fits, 10hrs.fits): ')\n",
    "hdulist                 =fits.open(os.path.join(data_dir, imname))\n",
    "hdu                     =hdulist[0]\n",
    "data                    =hdu.data[0,0,:,:]\n",
    "hdu.header['CDELT3']    =1.0\n",
    "plt.subplot()\n",
    "plt.imshow(hdu.data[0,0,:,:],vmax=max(hdu.data[0,0,:,:].flatten()),vmin=min(hdu.data[0,0,:,:].flatten()),origin='lower')\n",
    "plt.xlabel('RA')\n",
    "plt.ylabel('Dec')\n",
    "cb=plt.colorbar()\n",
    "cb.set_label('Flux (Jy)')\n",
    "hdulist.close()\n"
   ]
  },
  {
   "cell_type": "markdown",
   "metadata": {},
   "source": [
    "## Exercise: Image Statistics\n",
    "Give the pixels corresponding to the box in which you want to find out the flux and obtain the flux. The flux will be estimated for the last running file. Run the code below and give the pixel range obtained from the other image. \n",
    "Find the flux density for the noise in the upper right region, region covering the\n",
    "bright source, and region covering the extended source. "
   ]
  },
  {
   "cell_type": "code",
   "execution_count": null,
   "metadata": {},
   "outputs": [],
   "source": [
    "bottom_x, bottom_y = map(int, input('bottom left corner of your region (in format, e.g. 502, 506): ').split(','))\n",
    "upper_x, upper_y = map(int, input('upper right corner of your region (in format, e.g. 520, 518): ').split(','))\n",
    "\n",
    "print (bottom_x,bottom_y)\n",
    "print (upper_x,upper_y)\n",
    "\n",
    "#FILL IN HERE"
   ]
  }
 ],
 "metadata": {
  "kernelspec": {
   "display_name": "Python 3",
   "language": "python",
   "name": "python3"
  },
  "language_info": {
   "codemirror_mode": {
    "name": "ipython",
    "version": 3
   },
   "file_extension": ".py",
   "mimetype": "text/x-python",
   "name": "python",
   "nbconvert_exporter": "python",
   "pygments_lexer": "ipython3",
   "version": "3.6.5"
  }
 },
 "nbformat": 4,
 "nbformat_minor": 2
}
